{
  "nbformat": 4,
  "nbformat_minor": 0,
  "metadata": {
    "colab": {
      "provenance": []
    },
    "kernelspec": {
      "name": "python3",
      "display_name": "Python 3"
    },
    "language_info": {
      "name": "python"
    }
  },
  "cells": [
    {
      "cell_type": "code",
      "execution_count": 4,
      "metadata": {
        "colab": {
          "base_uri": "https://localhost:8080/"
        },
        "id": "0zALVvsBuBMJ",
        "outputId": "255a18ec-3d50-4721-d319-700b5dd4015b"
      },
      "outputs": [
        {
          "output_type": "stream",
          "name": "stdout",
          "text": [
            "Collecting cassandra-driver\n",
            "  Downloading cassandra_driver-3.29.2-cp310-cp310-manylinux_2_17_x86_64.manylinux2014_x86_64.whl.metadata (6.2 kB)\n",
            "Collecting geomet<0.3,>=0.1 (from cassandra-driver)\n",
            "  Downloading geomet-0.2.1.post1-py3-none-any.whl.metadata (1.0 kB)\n",
            "Requirement already satisfied: click in /usr/local/lib/python3.10/dist-packages (from geomet<0.3,>=0.1->cassandra-driver) (8.1.7)\n",
            "Requirement already satisfied: six in /usr/local/lib/python3.10/dist-packages (from geomet<0.3,>=0.1->cassandra-driver) (1.16.0)\n",
            "Downloading cassandra_driver-3.29.2-cp310-cp310-manylinux_2_17_x86_64.manylinux2014_x86_64.whl (3.9 MB)\n",
            "\u001b[2K   \u001b[90m━━━━━━━━━━━━━━━━━━━━━━━━━━━━━━━━━━━━━━━━\u001b[0m \u001b[32m3.9/3.9 MB\u001b[0m \u001b[31m33.3 MB/s\u001b[0m eta \u001b[36m0:00:00\u001b[0m\n",
            "\u001b[?25hDownloading geomet-0.2.1.post1-py3-none-any.whl (18 kB)\n",
            "Installing collected packages: geomet, cassandra-driver\n",
            "Successfully installed cassandra-driver-3.29.2 geomet-0.2.1.post1\n"
          ]
        }
      ],
      "source": [
        "!pip install cassandra-driver\n"
      ]
    },
    {
      "cell_type": "code",
      "source": [
        "from cassandra.cluster import Cluster\n",
        "from cassandra.auth import PlainTextAuthProvider\n",
        "import pandas as pd\n",
        "import json\n",
        "\n",
        "# Path to the secure connect bundle\n",
        "SECURE_CONNECT_BUNDLE = \"secure-connect-1st-db.zip\"\n",
        "\n",
        "with open(\"1st_DB-token.json\") as f:\n",
        "  secrets = json.load(f)\n",
        "\n",
        "# Authenticate and connect\n",
        "auth_provider = PlainTextAuthProvider(\n",
        "    'aSZgROdjEjGZNMrpwbnrulud',\n",
        "    'eQjM3OCWe2UX,N4qrM+0Ek.U-,YdYpsN+3RpJpZReYjwcGWsIs4rGXixyl_ggpCBKIHZuF0M3.5-zYDLI6jD_osAcKKS7BSy_teCkJnpt1pIpyQwLeOZH.3hTs_TiLO_'\n",
        ")\n",
        "cluster = Cluster(cloud={'secure_connect_bundle': SECURE_CONNECT_BUNDLE}, auth_provider=auth_provider)\n",
        "session = cluster.connect()\n",
        "\n",
        "# Set the keyspace\n",
        "session.set_keyspace('sales')\n",
        "\n",
        "if session:\n",
        "    print('Connected to database')\n",
        "else:\n",
        "    print('Connection failed')\n"
      ],
      "metadata": {
        "colab": {
          "base_uri": "https://localhost:8080/"
        },
        "id": "EFErRJBoupYo",
        "outputId": "54b8228e-bde0-4b6c-8e36-ab3c301a4808"
      },
      "execution_count": 7,
      "outputs": [
        {
          "output_type": "stream",
          "name": "stderr",
          "text": [
            "WARNING:cassandra.cluster:Downgrading core protocol version from 66 to 65 for 006603c6-e580-4575-b9d9-f1b5e69e7bd9-eu-west-1.db.astra.datastax.com:29042:9e3a5bee-3d95-3bf7-90f5-09bd2177324b. To avoid this, it is best practice to explicitly set Cluster(protocol_version) to the version supported by your cluster. http://datastax.github.io/python-driver/api/cassandra/cluster.html#cassandra.cluster.Cluster.protocol_version\n",
            "WARNING:cassandra.cluster:Downgrading core protocol version from 65 to 5 for 006603c6-e580-4575-b9d9-f1b5e69e7bd9-eu-west-1.db.astra.datastax.com:29042:9e3a5bee-3d95-3bf7-90f5-09bd2177324b. To avoid this, it is best practice to explicitly set Cluster(protocol_version) to the version supported by your cluster. http://datastax.github.io/python-driver/api/cassandra/cluster.html#cassandra.cluster.Cluster.protocol_version\n",
            "WARNING:cassandra.cluster:Downgrading core protocol version from 5 to 4 for 006603c6-e580-4575-b9d9-f1b5e69e7bd9-eu-west-1.db.astra.datastax.com:29042:9e3a5bee-3d95-3bf7-90f5-09bd2177324b. To avoid this, it is best practice to explicitly set Cluster(protocol_version) to the version supported by your cluster. http://datastax.github.io/python-driver/api/cassandra/cluster.html#cassandra.cluster.Cluster.protocol_version\n"
          ]
        },
        {
          "output_type": "stream",
          "name": "stdout",
          "text": [
            "Connected to database\n"
          ]
        }
      ]
    },
    {
      "cell_type": "code",
      "source": [
        "# Download sales_100.csv from GitHub\n",
        "url = \"https://raw.githubusercontent.com/gchandra10/filestorage/main/sales_100.csv\"\n",
        "sales_data = pd.read_csv(url)\n",
        "print(sales_data.head())\n"
      ],
      "metadata": {
        "colab": {
          "base_uri": "https://localhost:8080/"
        },
        "id": "NcbjeXaXvS-W",
        "outputId": "672f5e8f-d418-4ad2-95e7-1a48b58352f2"
      },
      "execution_count": 10,
      "outputs": [
        {
          "output_type": "stream",
          "name": "stdout",
          "text": [
            "                         Region           Country  Item Type Sales Channel  \\\n",
            "0            Sub-Saharan Africa      South Africa     Fruits       Offline   \n",
            "1  Middle East and North Africa           Morocco    Clothes        Online   \n",
            "2         Australia and Oceania  Papua New Guinea       Meat       Offline   \n",
            "3            Sub-Saharan Africa          Djibouti    Clothes       Offline   \n",
            "4                        Europe          Slovakia  Beverages       Offline   \n",
            "\n",
            "  Order Priority  Order Date   Order ID   Ship Date  UnitsSold  UnitPrice  \\\n",
            "0              M   7/27/2012  443368995   7/28/2012       1593       9.33   \n",
            "1              M   9/14/2013  667593514  10/19/2013       4611     109.28   \n",
            "2              M   5/15/2015  940995585    6/4/2015        360     421.89   \n",
            "3              H   5/17/2017  880811536    7/2/2017        562     109.28   \n",
            "4              L  10/26/2016  174590194   12/4/2016       3973      47.45   \n",
            "\n",
            "   UnitCost  TotalRevenue  TotalCost  TotalProfit  \n",
            "0      6.92      14862.69   11023.56      3839.13  \n",
            "1     35.84     503890.08  165258.24    338631.84  \n",
            "2    364.69     151880.40  131288.40     20592.00  \n",
            "3     35.84      61415.36   20142.08     41273.28  \n",
            "4     31.79     188518.85  126301.67     62217.18  \n"
          ]
        }
      ]
    },
    {
      "cell_type": "code",
      "source": [
        "session.execute(\"\"\"\n",
        "CREATE TABLE IF NOT EXISTS bronze_sales (\n",
        "    id UUID PRIMARY KEY,\n",
        "    raw_data TEXT\n",
        ");\n",
        "\"\"\")"
      ],
      "metadata": {
        "colab": {
          "base_uri": "https://localhost:8080/"
        },
        "id": "ydeqM0cFETEi",
        "outputId": "66668424-2da7-4cbb-883c-c71f2ec6343b"
      },
      "execution_count": 11,
      "outputs": [
        {
          "output_type": "execute_result",
          "data": {
            "text/plain": [
              "<cassandra.cluster.ResultSet at 0x7b08e490b490>"
            ]
          },
          "metadata": {},
          "execution_count": 11
        }
      ]
    },
    {
      "cell_type": "code",
      "source": [
        "import uuid\n",
        "\n",
        "for _, row in sales_data.iterrows():\n",
        "    raw_data = row.to_json()\n",
        "    session.execute(\n",
        "        \"INSERT INTO bronze_sales (id, raw_data) VALUES (%s, %s)\",\n",
        "        (uuid.uuid4(), raw_data)\n",
        "    )\n",
        "print(\"Bronze table populated with raw data.\")"
      ],
      "metadata": {
        "colab": {
          "base_uri": "https://localhost:8080/"
        },
        "id": "4mHYb5sWGDhI",
        "outputId": "25189b34-43bc-46ed-ea7b-e9958c714db8"
      },
      "execution_count": 12,
      "outputs": [
        {
          "output_type": "stream",
          "name": "stdout",
          "text": [
            "Bronze table populated with raw data.\n"
          ]
        }
      ]
    },
    {
      "cell_type": "code",
      "source": [
        "session.execute(\"\"\"\n",
        "CREATE TABLE IF NOT EXISTS silver_sales (\n",
        "    order_id BIGINT PRIMARY KEY,\n",
        "    region TEXT,\n",
        "    country TEXT,\n",
        "    item_type TEXT,\n",
        "    sales_channel TEXT,\n",
        "    order_priority TEXT,\n",
        "    order_date DATE,\n",
        "    ship_date DATE,\n",
        "    units_sold INT,\n",
        "    unit_price FLOAT,\n",
        "    unit_cost FLOAT,\n",
        "    total_revenue FLOAT,\n",
        "    total_cost FLOAT,\n",
        "    total_profit FLOAT\n",
        ");\n",
        "\"\"\")\n",
        "print(\"Recreated the silver_sales table.\")"
      ],
      "metadata": {
        "colab": {
          "base_uri": "https://localhost:8080/"
        },
        "id": "g2ozZCuXH2si",
        "outputId": "0f3e4815-f71b-4b7d-fd09-47fcfae17404"
      },
      "execution_count": 13,
      "outputs": [
        {
          "output_type": "stream",
          "name": "stdout",
          "text": [
            "Recreated the silver_sales table.\n"
          ]
        }
      ]
    },
    {
      "cell_type": "code",
      "source": [
        "sales_data.rename(columns={\n",
        "    'Order ID': 'order_id',\n",
        "    'Region': 'region',\n",
        "    'Country': 'country',\n",
        "    'Item Type': 'item_type',\n",
        "    'Sales Channel': 'sales_channel',\n",
        "    'Order Priority': 'order_priority',\n",
        "    'Order Date': 'order_date',\n",
        "    'Ship Date': 'ship_date',\n",
        "    'UnitsSold': 'units_sold',\n",
        "    'UnitPrice': 'unit_price',\n",
        "    'UnitCost': 'unit_cost',\n",
        "    'TotalRevenue': 'total_revenue',\n",
        "    'TotalCost': 'total_cost',\n",
        "    'TotalProfit': 'total_profit'\n",
        "}, inplace=True)"
      ],
      "metadata": {
        "id": "B9B7jwSNOc2M"
      },
      "execution_count": 14,
      "outputs": []
    },
    {
      "cell_type": "code",
      "source": [
        "sales_data['order_id'] = sales_data['order_id'].astype(int)\n",
        "sales_data['units_sold'] = sales_data['units_sold'].astype(int)\n",
        "sales_data['unit_price'] = sales_data['unit_price'].astype(float)\n",
        "sales_data['unit_cost'] = sales_data['unit_cost'].astype(float)\n",
        "sales_data['total_revenue'] = sales_data['total_revenue'].astype(float)\n",
        "sales_data['total_cost'] = sales_data['total_cost'].astype(float)\n",
        "sales_data['total_profit'] = sales_data['total_profit'].astype(float)\n",
        "\n",
        "# Convert date columns\n",
        "sales_data['order_date'] = pd.to_datetime(sales_data['order_date']).dt.date\n",
        "sales_data['ship_date'] = pd.to_datetime(sales_data['ship_date']).dt.date"
      ],
      "metadata": {
        "id": "DZGb96UgOgYv"
      },
      "execution_count": 15,
      "outputs": []
    },
    {
      "cell_type": "code",
      "source": [
        "for _, row in sales_data.iterrows():\n",
        "    session.execute(\"\"\"\n",
        "    INSERT INTO silver_sales (order_id, region, country, item_type, sales_channel,\n",
        "                              order_priority, order_date, ship_date, units_sold,\n",
        "                              unit_price, unit_cost, total_revenue, total_cost,\n",
        "                              total_profit)\n",
        "    VALUES (%s, %s, %s, %s, %s, %s, %s, %s, %s, %s, %s, %s, %s, %s)\n",
        "    \"\"\", (\n",
        "        row['order_id'], row['region'], row['country'], row['item_type'],\n",
        "        row['sales_channel'], row['order_priority'], row['order_date'],\n",
        "        row['ship_date'], row['units_sold'], row['unit_price'],\n",
        "        row['unit_cost'], row['total_revenue'], row['total_cost'], row['total_profit']\n",
        "    ))\n",
        "print(\"Silver table populated with cleaned data.\")"
      ],
      "metadata": {
        "colab": {
          "base_uri": "https://localhost:8080/"
        },
        "id": "gr0Nu8W0JP38",
        "outputId": "aa8f2a9e-6fb7-4f71-dcc3-a696b155e474"
      },
      "execution_count": 16,
      "outputs": [
        {
          "output_type": "stream",
          "name": "stdout",
          "text": [
            "Silver table populated with cleaned data.\n"
          ]
        }
      ]
    },
    {
      "cell_type": "code",
      "source": [
        "rows = session.execute(\"SELECT * FROM silver_sales LIMIT 5\")\n",
        "for row in rows:\n",
        "    print(row)"
      ],
      "metadata": {
        "colab": {
          "base_uri": "https://localhost:8080/"
        },
        "id": "K-4bPqFdPdF4",
        "outputId": "bc0f9608-0683-409b-bd5f-bd4e18b670d3"
      },
      "execution_count": 17,
      "outputs": [
        {
          "output_type": "stream",
          "name": "stdout",
          "text": [
            "Row(order_id=294530856, country='Italy', item_type='Cereal', order_date=Date(15293), order_priority='M', region='Europe', sales_channel='Online', ship_date=Date(15336), total_cost=829138.8125, total_profit=627217.1875, total_revenue=1456356.0, unit_cost=117.11000061035156, unit_price=205.6999969482422, units_sold=7080)\n",
            "Row(order_id=274930989, country='Dominica', item_type='Household', order_date=Date(15297), order_priority='C', region='Central America and the Caribbean', sales_channel='Offline', ship_date=Date(15321), total_cost=3539891.75, total_profit=1167402.125, total_revenue=4707294.0, unit_cost=502.5400085449219, unit_price=668.27001953125, units_sold=7044)\n",
            "Row(order_id=498071897, country='Taiwan', item_type='Cereal', order_date=Date(14710), order_priority='H', region='Asia', sales_channel='Online', ship_date=Date(14755), total_cost=1100482.625, total_profit=832480.25, total_revenue=1932962.875, unit_cost=117.11000061035156, unit_price=205.6999969482422, units_sold=9397)\n",
            "Row(order_id=940980136, country='New Zealand', item_type='Beverages', order_date=Date(15624), order_priority='M', region='Australia and Oceania', sales_channel='Online', ship_date=Date(15648), total_cost=184000.515625, total_profit=90640.078125, total_revenue=274640.59375, unit_cost=31.790000915527344, unit_price=47.45000076293945, units_sold=5788)\n",
            "Row(order_id=324669444, country='France', item_type='Cosmetics', order_date=Date(16776), order_priority='M', region='Europe', sales_channel='Online', ship_date=Date(16818), total_cost=1516254.125, total_profit=1001143.4375, total_revenue=2517397.5, unit_cost=263.3299865722656, unit_price=437.20001220703125, units_sold=5758)\n"
          ]
        }
      ]
    },
    {
      "cell_type": "markdown",
      "source": [
        "# **1st** **Gold** **Table**"
      ],
      "metadata": {
        "id": "yqlaEGObQGJu"
      }
    },
    {
      "cell_type": "code",
      "source": [
        "session.execute(\"\"\"\n",
        "CREATE TABLE IF NOT EXISTS gold_sales_by_region (\n",
        "    region TEXT PRIMARY KEY,\n",
        "    total_sales FLOAT\n",
        ");\n",
        "\"\"\")"
      ],
      "metadata": {
        "colab": {
          "base_uri": "https://localhost:8080/"
        },
        "id": "IyHIZOlYP-Zx",
        "outputId": "d417664f-2058-4ab1-a985-9b3c0ffe12df"
      },
      "execution_count": 18,
      "outputs": [
        {
          "output_type": "execute_result",
          "data": {
            "text/plain": [
              "<cassandra.cluster.ResultSet at 0x7b08ac3bcf40>"
            ]
          },
          "metadata": {},
          "execution_count": 18
        }
      ]
    },
    {
      "cell_type": "code",
      "source": [
        "region_sales = sales_data.groupby('region')['total_revenue'].sum().reset_index()\n",
        "\n",
        "for _, row in region_sales.iterrows():\n",
        "    session.execute(\"\"\"\n",
        "    INSERT INTO gold_sales_by_region (region, total_sales) VALUES (%s, %s)\n",
        "    \"\"\", (row['region'], float(row['total_revenue'])))\n",
        "print(\"Gold table 1 populated with total sales by region.\")"
      ],
      "metadata": {
        "colab": {
          "base_uri": "https://localhost:8080/"
        },
        "id": "k9f18e0nQigc",
        "outputId": "6eda0546-ea83-4f5d-cee8-b8bb6a7da597"
      },
      "execution_count": 19,
      "outputs": [
        {
          "output_type": "stream",
          "name": "stdout",
          "text": [
            "Gold table 1 populated with total sales by region.\n"
          ]
        }
      ]
    },
    {
      "cell_type": "code",
      "source": [
        "# Query the table and fetch data\n",
        "rows = session.execute(\"SELECT * FROM gold_sales_by_region\")\n",
        "\n",
        "# Convert the result set to a list of dictionaries\n",
        "data = [{'Region': row.region, 'Total Sales': row.total_sales} for row in rows]\n",
        "\n",
        "# Create a DataFrame\n",
        "df = pd.DataFrame(data)\n",
        "\n",
        "# Display the DataFrame\n",
        "print(\"Gold Table 1: Total Sales by Region\")\n",
        "print(df)"
      ],
      "metadata": {
        "colab": {
          "base_uri": "https://localhost:8080/"
        },
        "id": "tCXnH_9Nc-D_",
        "outputId": "288c7d18-8788-4f95-f171-a260ced8dc2c"
      },
      "execution_count": 20,
      "outputs": [
        {
          "output_type": "stream",
          "name": "stdout",
          "text": [
            "Gold Table 1: Total Sales by Region\n",
            "                              Region  Total Sales\n",
            "0              Australia and Oceania   10711258.0\n",
            "1                             Europe   34964748.0\n",
            "2       Middle East and North Africa   24765128.0\n",
            "3  Central America and the Caribbean   17570836.0\n",
            "4                               Asia   28840812.0\n",
            "5                 Sub-Saharan Africa   24225438.0\n",
            "6                      North America    3611757.5\n"
          ]
        }
      ]
    },
    {
      "cell_type": "markdown",
      "source": [
        "# **2nd Gold Table**\n",
        "\n",
        "> Top Selling Items\n",
        "\n"
      ],
      "metadata": {
        "id": "7mRudNOweqBp"
      }
    },
    {
      "cell_type": "code",
      "source": [
        "session.execute(\"\"\"\n",
        "CREATE TABLE IF NOT EXISTS gold_top_items (\n",
        "    item_type TEXT PRIMARY KEY,\n",
        "    total_units_sold INT\n",
        ");\n",
        "\"\"\")"
      ],
      "metadata": {
        "colab": {
          "base_uri": "https://localhost:8080/"
        },
        "id": "6kIxmHYheLoD",
        "outputId": "b0d32436-5dc5-4f23-b826-8f572e54b14e"
      },
      "execution_count": 21,
      "outputs": [
        {
          "output_type": "execute_result",
          "data": {
            "text/plain": [
              "<cassandra.cluster.ResultSet at 0x7b08ac3bf940>"
            ]
          },
          "metadata": {},
          "execution_count": 21
        }
      ]
    },
    {
      "cell_type": "code",
      "source": [
        "item_sales = sales_data.groupby('item_type')['units_sold'].sum().reset_index()\n",
        "\n",
        "for _, row in item_sales.iterrows():\n",
        "    session.execute(\"\"\"\n",
        "    INSERT INTO gold_top_items (item_type, total_units_sold) VALUES (%s, %s)\n",
        "    \"\"\", (row['item_type'], int(row['units_sold'])))\n",
        "print(\"Gold table 2 populated with top-selling items.\")"
      ],
      "metadata": {
        "colab": {
          "base_uri": "https://localhost:8080/"
        },
        "id": "ZqZxZHqUe7c7",
        "outputId": "210fa17c-a977-4c0c-8514-bccc30de2696"
      },
      "execution_count": 24,
      "outputs": [
        {
          "output_type": "stream",
          "name": "stdout",
          "text": [
            "Gold table 2 populated with top-selling items.\n"
          ]
        }
      ]
    },
    {
      "cell_type": "code",
      "source": [
        "import pandas as pd\n",
        "\n",
        "# Query the table and fetch data\n",
        "rows = session.execute(\"SELECT * FROM gold_top_items\")\n",
        "\n",
        "# Convert the result set to a list of dictionaries\n",
        "data = [{'Item Type': row.item_type, 'Total Units Sold': row.total_units_sold} for row in rows]\n",
        "\n",
        "# Create a DataFrame\n",
        "df = pd.DataFrame(data)\n",
        "\n",
        "# Display the DataFrame\n",
        "print(\"Gold Table 2: Top-Selling Items\")\n",
        "print(df)"
      ],
      "metadata": {
        "colab": {
          "base_uri": "https://localhost:8080/"
        },
        "id": "Y1I7BVWxfvFJ",
        "outputId": "78f397e3-e09e-4a37-e028-b713107354c9"
      },
      "execution_count": 25,
      "outputs": [
        {
          "output_type": "stream",
          "name": "stdout",
          "text": [
            "Gold Table 2: Top-Selling Items\n",
            "          Item Type  Total Units Sold\n",
            "0         Household             57640\n",
            "1   Office Supplies             42814\n",
            "2        Vegetables              7368\n",
            "3            Snacks             14377\n",
            "4     Personal Care             39045\n",
            "5              Meat             50437\n",
            "6            Fruits             65920\n",
            "7         Beverages             45206\n",
            "8            Cereal             45776\n",
            "9         Cosmetics             65707\n",
            "10        Baby Food             20372\n",
            "11          Clothes             40148\n"
          ]
        }
      ]
    },
    {
      "cell_type": "markdown",
      "source": [
        "# **3rd Gold Table**\n",
        "\n",
        "> Most Profitable Item"
      ],
      "metadata": {
        "id": "iqgCHlowgcsE"
      }
    },
    {
      "cell_type": "code",
      "source": [
        "session.execute(\"\"\"\n",
        "CREATE TABLE IF NOT EXISTS gold_profit_by_priority (\n",
        "    order_priority TEXT PRIMARY KEY,\n",
        "    total_profit FLOAT\n",
        ");\n",
        "\"\"\")"
      ],
      "metadata": {
        "colab": {
          "base_uri": "https://localhost:8080/"
        },
        "id": "H4VtleTAgpYR",
        "outputId": "f0d0d0fe-0faf-464a-9c6d-ac8cd645d5ab"
      },
      "execution_count": 26,
      "outputs": [
        {
          "output_type": "execute_result",
          "data": {
            "text/plain": [
              "<cassandra.cluster.ResultSet at 0x7b08a96df070>"
            ]
          },
          "metadata": {},
          "execution_count": 26
        }
      ]
    },
    {
      "cell_type": "code",
      "source": [
        "priority_profit = sales_data.groupby('order_priority')['total_profit'].sum().reset_index()\n",
        "\n",
        "for _, row in priority_profit.iterrows():\n",
        "    session.execute(\"\"\"\n",
        "    INSERT INTO gold_profit_by_priority (order_priority, total_profit) VALUES (%s, %s)\n",
        "    \"\"\", (row['order_priority'], float(row['total_profit'])))\n",
        "print(\"Gold table 3 populated with profit by priority.\")"
      ],
      "metadata": {
        "colab": {
          "base_uri": "https://localhost:8080/"
        },
        "id": "e_RqApA2h-hO",
        "outputId": "797f5841-b8a2-4881-fd44-c6c1b76dad75"
      },
      "execution_count": 28,
      "outputs": [
        {
          "output_type": "stream",
          "name": "stdout",
          "text": [
            "Gold table 3 populated with profit by priority.\n"
          ]
        }
      ]
    },
    {
      "cell_type": "code",
      "source": [
        "import pandas as pd\n",
        "\n",
        "# Query the table and fetch data\n",
        "rows = session.execute(\"SELECT * FROM gold_profit_by_priority\")\n",
        "\n",
        "# Convert the result set to a list of dictionaries\n",
        "data = [{'Order Priority': row.order_priority, 'Total Profit': row.total_profit} for row in rows]\n",
        "\n",
        "# Create a DataFrame\n",
        "df = pd.DataFrame(data)\n",
        "\n",
        "# Display the DataFrame\n",
        "print(\"Gold Table 3: Profit by Order Priority\")\n",
        "print(df)"
      ],
      "metadata": {
        "colab": {
          "base_uri": "https://localhost:8080/"
        },
        "id": "w33MBArfipUM",
        "outputId": "5fab37a7-6dde-4e0f-af2a-e2496e5ec8d0"
      },
      "execution_count": 29,
      "outputs": [
        {
          "output_type": "stream",
          "name": "stdout",
          "text": [
            "Gold Table 3: Profit by Order Priority\n",
            "  Order Priority  Total Profit\n",
            "0              C     7649023.0\n",
            "1              M    14607042.0\n",
            "2              H    11910944.0\n",
            "3              L     7160182.5\n"
          ]
        }
      ]
    },
    {
      "cell_type": "code",
      "source": [
        "rows = session.execute(\"SELECT * FROM gold_sales_by_region\")\n",
        "for row in rows:\n",
        "    print(row)\n",
        "\n",
        "rows = session.execute(\"SELECT * FROM gold_top_items\")\n",
        "for row in rows:\n",
        "    print(row)\n",
        "\n",
        "rows = session.execute(\"SELECT * FROM gold_profit_by_priority\")\n",
        "for row in rows:\n",
        "    print(row)\n"
      ],
      "metadata": {
        "colab": {
          "base_uri": "https://localhost:8080/"
        },
        "id": "EpVcZ_rbiypC",
        "outputId": "b45e9c6f-8d16-400c-b8cd-23a5b4eaf0e1"
      },
      "execution_count": 30,
      "outputs": [
        {
          "output_type": "stream",
          "name": "stdout",
          "text": [
            "Row(region='Australia and Oceania', total_sales=10711258.0)\n",
            "Row(region='Europe', total_sales=34964748.0)\n",
            "Row(region='Middle East and North Africa', total_sales=24765128.0)\n",
            "Row(region='Central America and the Caribbean', total_sales=17570836.0)\n",
            "Row(region='Asia', total_sales=28840812.0)\n",
            "Row(region='Sub-Saharan Africa', total_sales=24225438.0)\n",
            "Row(region='North America', total_sales=3611757.5)\n",
            "Row(item_type='Household', total_units_sold=57640)\n",
            "Row(item_type='Office Supplies', total_units_sold=42814)\n",
            "Row(item_type='Vegetables', total_units_sold=7368)\n",
            "Row(item_type='Snacks', total_units_sold=14377)\n",
            "Row(item_type='Personal Care', total_units_sold=39045)\n",
            "Row(item_type='Meat', total_units_sold=50437)\n",
            "Row(item_type='Fruits', total_units_sold=65920)\n",
            "Row(item_type='Beverages', total_units_sold=45206)\n",
            "Row(item_type='Cereal', total_units_sold=45776)\n",
            "Row(item_type='Cosmetics', total_units_sold=65707)\n",
            "Row(item_type='Baby Food', total_units_sold=20372)\n",
            "Row(item_type='Clothes', total_units_sold=40148)\n",
            "Row(order_priority='C', total_profit=7649023.0)\n",
            "Row(order_priority='M', total_profit=14607042.0)\n",
            "Row(order_priority='H', total_profit=11910944.0)\n",
            "Row(order_priority='L', total_profit=7160182.5)\n"
          ]
        }
      ]
    },
    {
      "cell_type": "code",
      "source": [
        "# Function to display rows in a cleaner format\n",
        "def display_table(title, rows, columns):\n",
        "    print(f\"\\n{title}\")\n",
        "    print(\"-\" * len(title))\n",
        "    for row in rows:\n",
        "        print(\", \".join([f\"{col}: {getattr(row, col)}\" for col in columns]))\n",
        "    print(\"\\n\")\n",
        "\n",
        "# Query and display Gold Table 1: Total Sales by Region\n",
        "rows = session.execute(\"SELECT * FROM gold_sales_by_region\")\n",
        "display_table(\"Gold Table 1: Total Sales by Region\", rows, [\"region\", \"total_sales\"])\n",
        "\n",
        "# Query and display Gold Table 2: Top-Selling Items\n",
        "rows = session.execute(\"SELECT * FROM gold_top_items\")\n",
        "display_table(\"Gold Table 2: Top-Selling Items\", rows, [\"item_type\", \"total_units_sold\"])\n",
        "\n",
        "# Query and display Gold Table 3: Profit by Order Priority\n",
        "rows = session.execute(\"SELECT * FROM gold_profit_by_priority\")\n",
        "display_table(\"Gold Table 3: Profit by Order Priority\", rows, [\"order_priority\", \"total_profit\"])"
      ],
      "metadata": {
        "colab": {
          "base_uri": "https://localhost:8080/"
        },
        "id": "wSY0v7h7jJfV",
        "outputId": "50a62b48-91bc-4625-a697-1d7da69dfd55"
      },
      "execution_count": 31,
      "outputs": [
        {
          "output_type": "stream",
          "name": "stdout",
          "text": [
            "\n",
            "Gold Table 1: Total Sales by Region\n",
            "-----------------------------------\n",
            "region: Australia and Oceania, total_sales: 10711258.0\n",
            "region: Europe, total_sales: 34964748.0\n",
            "region: Middle East and North Africa, total_sales: 24765128.0\n",
            "region: Central America and the Caribbean, total_sales: 17570836.0\n",
            "region: Asia, total_sales: 28840812.0\n",
            "region: Sub-Saharan Africa, total_sales: 24225438.0\n",
            "region: North America, total_sales: 3611757.5\n",
            "\n",
            "\n",
            "\n",
            "Gold Table 2: Top-Selling Items\n",
            "-------------------------------\n",
            "item_type: Household, total_units_sold: 57640\n",
            "item_type: Office Supplies, total_units_sold: 42814\n",
            "item_type: Vegetables, total_units_sold: 7368\n",
            "item_type: Snacks, total_units_sold: 14377\n",
            "item_type: Personal Care, total_units_sold: 39045\n",
            "item_type: Meat, total_units_sold: 50437\n",
            "item_type: Fruits, total_units_sold: 65920\n",
            "item_type: Beverages, total_units_sold: 45206\n",
            "item_type: Cereal, total_units_sold: 45776\n",
            "item_type: Cosmetics, total_units_sold: 65707\n",
            "item_type: Baby Food, total_units_sold: 20372\n",
            "item_type: Clothes, total_units_sold: 40148\n",
            "\n",
            "\n",
            "\n",
            "Gold Table 3: Profit by Order Priority\n",
            "--------------------------------------\n",
            "order_priority: C, total_profit: 7649023.0\n",
            "order_priority: M, total_profit: 14607042.0\n",
            "order_priority: H, total_profit: 11910944.0\n",
            "order_priority: L, total_profit: 7160182.5\n",
            "\n",
            "\n"
          ]
        }
      ]
    }
  ]
}